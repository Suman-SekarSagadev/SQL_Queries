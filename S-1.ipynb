{
 "cells": [
  {
   "cell_type": "code",
   "execution_count": null,
   "id": "e8e577ed",
   "metadata": {},
   "outputs": [],
   "source": [
    "-Guido Van Rossum\n",
    "\n",
    "*Interpreted language   - # going to execute the code line by line\n",
    "*Dynamically typed - # don't have to mention datatype again and again\n",
    "*Cross PLatform language\n",
    "*General Purpose Language\n"
   ]
  },
  {
   "cell_type": "code",
   "execution_count": 1,
   "id": "dbbab876",
   "metadata": {},
   "outputs": [
    {
     "name": "stdout",
     "output_type": "stream",
     "text": [
      "Hey\n"
     ]
    },
    {
     "ename": "NameError",
     "evalue": "name 'pint' is not defined",
     "output_type": "error",
     "traceback": [
      "\u001b[1;31m---------------------------------------------------------------------------\u001b[0m",
      "\u001b[1;31mNameError\u001b[0m                                 Traceback (most recent call last)",
      "\u001b[1;32m~\\AppData\\Local\\Temp\\ipykernel_17652\\3673883683.py\u001b[0m in \u001b[0;36m<module>\u001b[1;34m\u001b[0m\n\u001b[0;32m      1\u001b[0m \u001b[0mprint\u001b[0m\u001b[1;33m(\u001b[0m\u001b[1;34m\"Hey\"\u001b[0m\u001b[1;33m)\u001b[0m\u001b[1;33m\u001b[0m\u001b[1;33m\u001b[0m\u001b[0m\n\u001b[1;32m----> 2\u001b[1;33m \u001b[0mpint\u001b[0m\u001b[1;33m(\u001b[0m\u001b[1;34m'Hey'\u001b[0m\u001b[1;33m)\u001b[0m\u001b[1;33m\u001b[0m\u001b[1;33m\u001b[0m\u001b[0m\n\u001b[0m",
      "\u001b[1;31mNameError\u001b[0m: name 'pint' is not defined"
     ]
    }
   ],
   "source": [
    "print(\"Hey\")\n",
    "pint('Hey')"
   ]
  },
  {
   "cell_type": "code",
   "execution_count": null,
   "id": "1222f9de",
   "metadata": {},
   "outputs": [],
   "source": [
    "str  panda"
   ]
  },
  {
   "cell_type": "code",
   "execution_count": null,
   "id": "60403531",
   "metadata": {},
   "outputs": [],
   "source": [
    "int 45"
   ]
  },
  {
   "cell_type": "code",
   "execution_count": null,
   "id": "b59dd561",
   "metadata": {},
   "outputs": [],
   "source": [
    "89- int\n",
    "'hey'- string"
   ]
  },
  {
   "cell_type": "code",
   "execution_count": null,
   "id": "92407e46",
   "metadata": {},
   "outputs": [],
   "source": [
    "String- collection of characters\n",
    "a9"
   ]
  },
  {
   "cell_type": "code",
   "execution_count": 5,
   "id": "370d5bb8",
   "metadata": {},
   "outputs": [],
   "source": [
    "#Variable -container \n",
    "\n",
    "a=10\n",
    "c='panda'\n",
    "d=9.8\n",
    "e=True"
   ]
  },
  {
   "cell_type": "code",
   "execution_count": 2,
   "id": "728719ae",
   "metadata": {},
   "outputs": [
    {
     "data": {
      "text/plain": [
       "300"
      ]
     },
     "execution_count": 2,
     "metadata": {},
     "output_type": "execute_result"
    }
   ],
   "source": [
    "b=100\n",
    "c=200\n",
    "b+c"
   ]
  },
  {
   "cell_type": "code",
   "execution_count": 6,
   "id": "e88a12c1",
   "metadata": {},
   "outputs": [],
   "source": [
    "_var=100"
   ]
  },
  {
   "cell_type": "code",
   "execution_count": 7,
   "id": "ae5108c0",
   "metadata": {},
   "outputs": [
    {
     "ename": "SyntaxError",
     "evalue": "invalid syntax (2906392503.py, line 1)",
     "output_type": "error",
     "traceback": [
      "\u001b[1;36m  File \u001b[1;32m\"C:\\Users\\Dell\\AppData\\Local\\Temp\\ipykernel_17652\\2906392503.py\"\u001b[1;36m, line \u001b[1;32m1\u001b[0m\n\u001b[1;33m    2var=70\u001b[0m\n\u001b[1;37m     ^\u001b[0m\n\u001b[1;31mSyntaxError\u001b[0m\u001b[1;31m:\u001b[0m invalid syntax\n"
     ]
    }
   ],
   "source": [
    "2var=70"
   ]
  },
  {
   "cell_type": "code",
   "execution_count": 8,
   "id": "9009a70e",
   "metadata": {},
   "outputs": [],
   "source": [
    "var2=800"
   ]
  },
  {
   "cell_type": "code",
   "execution_count": 10,
   "id": "609a94c0",
   "metadata": {},
   "outputs": [],
   "source": [
    "Uzumaki_Naruto=1000"
   ]
  },
  {
   "cell_type": "code",
   "execution_count": null,
   "id": "6d9d9475",
   "metadata": {},
   "outputs": [],
   "source": [
    "#OPERATORS\n",
    "\n",
    "ARITHMETIC OPERATOR- +,-,*,/,%\n",
    "\n",
    "ASSIGNMENT OPERATOR - =, +=, -=, *=,/=\n",
    "\n",
    "Comparison operator - =,==, <=,>=\n",
    "\n",
    "Logical operator- and , or, not\n",
    "\n",
    "Identity Operator- is, is not\n",
    "\n",
    "Membership operator- in , not in"
   ]
  },
  {
   "cell_type": "code",
   "execution_count": 14,
   "id": "c8229b2d",
   "metadata": {},
   "outputs": [
    {
     "data": {
      "text/plain": [
       "False"
      ]
     },
     "execution_count": 14,
     "metadata": {},
     "output_type": "execute_result"
    }
   ],
   "source": [
    "'panda'=='pand'"
   ]
  },
  {
   "cell_type": "code",
   "execution_count": null,
   "id": "67ed373f",
   "metadata": {},
   "outputs": [],
   "source": [
    "a=10"
   ]
  },
  {
   "cell_type": "code",
   "execution_count": null,
   "id": "79edf3a6",
   "metadata": {},
   "outputs": [],
   "source": [
    "x=x+10\n",
    "x+=10"
   ]
  },
  {
   "cell_type": "code",
   "execution_count": null,
   "id": "54701b62",
   "metadata": {},
   "outputs": [],
   "source": [
    "c=c*100\n",
    "c*=100"
   ]
  },
  {
   "cell_type": "code",
   "execution_count": 11,
   "id": "a82ccce4",
   "metadata": {},
   "outputs": [
    {
     "data": {
      "text/plain": [
       "2.0"
      ]
     },
     "execution_count": 11,
     "metadata": {},
     "output_type": "execute_result"
    }
   ],
   "source": [
    "10/5"
   ]
  },
  {
   "cell_type": "code",
   "execution_count": 12,
   "id": "6406b76f",
   "metadata": {},
   "outputs": [
    {
     "data": {
      "text/plain": [
       "0"
      ]
     },
     "execution_count": 12,
     "metadata": {},
     "output_type": "execute_result"
    }
   ],
   "source": [
    "10%5"
   ]
  },
  {
   "cell_type": "code",
   "execution_count": null,
   "id": "b87515ff",
   "metadata": {},
   "outputs": [],
   "source": [
    "#DATATYPES\n",
    "*Mutuable - LIST, DICTIONARY, SET\n",
    "*Immutable - TUPLE, STRING"
   ]
  },
  {
   "cell_type": "code",
   "execution_count": 17,
   "id": "c502503d",
   "metadata": {},
   "outputs": [
    {
     "name": "stdout",
     "output_type": "stream",
     "text": [
      "[1, 2, 'hello', 7.8, True]\n"
     ]
    }
   ],
   "source": [
    "#LIST- []\n",
    "\n",
    "a=[1,2,'hello',7.8,True]\n",
    "print(a)"
   ]
  },
  {
   "cell_type": "code",
   "execution_count": 18,
   "id": "4c13c66f",
   "metadata": {},
   "outputs": [],
   "source": [
    "a=10"
   ]
  },
  {
   "cell_type": "code",
   "execution_count": 19,
   "id": "a644ab6d",
   "metadata": {},
   "outputs": [
    {
     "name": "stdout",
     "output_type": "stream",
     "text": [
      "10\n",
      "a\n"
     ]
    }
   ],
   "source": [
    "print(a)\n",
    "print('a')"
   ]
  },
  {
   "cell_type": "code",
   "execution_count": 22,
   "id": "49ad39b0",
   "metadata": {},
   "outputs": [],
   "source": [
    "c=[12,3,4,5]"
   ]
  },
  {
   "cell_type": "code",
   "execution_count": 23,
   "id": "00eb26a5",
   "metadata": {},
   "outputs": [
    {
     "data": {
      "text/plain": [
       "5"
      ]
     },
     "execution_count": 23,
     "metadata": {},
     "output_type": "execute_result"
    }
   ],
   "source": [
    "c.pop()"
   ]
  },
  {
   "cell_type": "code",
   "execution_count": 24,
   "id": "73baa7f4",
   "metadata": {},
   "outputs": [
    {
     "name": "stdout",
     "output_type": "stream",
     "text": [
      "[12, 3, 4]\n"
     ]
    }
   ],
   "source": [
    "print(c)"
   ]
  },
  {
   "cell_type": "code",
   "execution_count": 25,
   "id": "801f4bbc",
   "metadata": {},
   "outputs": [],
   "source": [
    "c.append(89)"
   ]
  },
  {
   "cell_type": "code",
   "execution_count": 27,
   "id": "a1f96237",
   "metadata": {},
   "outputs": [
    {
     "name": "stdout",
     "output_type": "stream",
     "text": [
      "[12, 3, 4, 89]\n"
     ]
    }
   ],
   "source": [
    "print(c)"
   ]
  },
  {
   "cell_type": "code",
   "execution_count": 29,
   "id": "b0666f2a",
   "metadata": {},
   "outputs": [
    {
     "name": "stdout",
     "output_type": "stream",
     "text": [
      "(1, 'panda', True, 2, 3, 4)\n"
     ]
    }
   ],
   "source": [
    "#TUPLE -()\n",
    "\n",
    "c=(1,'panda',True,2,3,4)\n",
    "print(c)"
   ]
  },
  {
   "cell_type": "code",
   "execution_count": 30,
   "id": "1b0d270c",
   "metadata": {},
   "outputs": [
    {
     "ename": "AttributeError",
     "evalue": "'tuple' object has no attribute 'pop'",
     "output_type": "error",
     "traceback": [
      "\u001b[1;31m---------------------------------------------------------------------------\u001b[0m",
      "\u001b[1;31mAttributeError\u001b[0m                            Traceback (most recent call last)",
      "\u001b[1;32m~\\AppData\\Local\\Temp\\ipykernel_17652\\2690848647.py\u001b[0m in \u001b[0;36m<module>\u001b[1;34m\u001b[0m\n\u001b[1;32m----> 1\u001b[1;33m \u001b[0mc\u001b[0m\u001b[1;33m.\u001b[0m\u001b[0mpop\u001b[0m\u001b[1;33m(\u001b[0m\u001b[1;33m)\u001b[0m\u001b[1;33m\u001b[0m\u001b[1;33m\u001b[0m\u001b[0m\n\u001b[0m",
      "\u001b[1;31mAttributeError\u001b[0m: 'tuple' object has no attribute 'pop'"
     ]
    }
   ],
   "source": [
    "c.pop()"
   ]
  },
  {
   "cell_type": "code",
   "execution_count": 33,
   "id": "9ad07770",
   "metadata": {},
   "outputs": [
    {
     "ename": "AttributeError",
     "evalue": "'tuple' object has no attribute 'append'",
     "output_type": "error",
     "traceback": [
      "\u001b[1;31m---------------------------------------------------------------------------\u001b[0m",
      "\u001b[1;31mAttributeError\u001b[0m                            Traceback (most recent call last)",
      "\u001b[1;32m~\\AppData\\Local\\Temp\\ipykernel_17652\\309651299.py\u001b[0m in \u001b[0;36m<module>\u001b[1;34m\u001b[0m\n\u001b[1;32m----> 1\u001b[1;33m \u001b[0mc\u001b[0m\u001b[1;33m.\u001b[0m\u001b[0mappend\u001b[0m\u001b[1;33m(\u001b[0m\u001b[1;36m89\u001b[0m\u001b[1;33m)\u001b[0m\u001b[1;33m\u001b[0m\u001b[1;33m\u001b[0m\u001b[0m\n\u001b[0m",
      "\u001b[1;31mAttributeError\u001b[0m: 'tuple' object has no attribute 'append'"
     ]
    }
   ],
   "source": [
    "c.append(89)"
   ]
  },
  {
   "cell_type": "code",
   "execution_count": 38,
   "id": "fb9f855c",
   "metadata": {},
   "outputs": [],
   "source": [
    "d=[1,2]\n"
   ]
  },
  {
   "cell_type": "code",
   "execution_count": 41,
   "id": "63b90a6f",
   "metadata": {},
   "outputs": [
    {
     "name": "stdout",
     "output_type": "stream",
     "text": [
      "[1, 2]\n"
     ]
    }
   ],
   "source": [
    "print(d)"
   ]
  },
  {
   "cell_type": "code",
   "execution_count": 44,
   "id": "ae241611",
   "metadata": {},
   "outputs": [],
   "source": [
    "#Indexing-fetching single value at a time\n",
    "\n",
    "a=[67,45,89,5,7]"
   ]
  },
  {
   "cell_type": "markdown",
   "id": "6879ffb9",
   "metadata": {},
   "source": [
    "# 67-0\n",
    "# 45-1\n",
    "# 89-2\n",
    "# 5-3\n",
    "# 7-4"
   ]
  },
  {
   "cell_type": "code",
   "execution_count": 45,
   "id": "9371cf1d",
   "metadata": {},
   "outputs": [
    {
     "data": {
      "text/plain": [
       "67"
      ]
     },
     "execution_count": 45,
     "metadata": {},
     "output_type": "execute_result"
    }
   ],
   "source": [
    "a[0]"
   ]
  },
  {
   "cell_type": "code",
   "execution_count": 46,
   "id": "750eec0d",
   "metadata": {},
   "outputs": [
    {
     "data": {
      "text/plain": [
       "89"
      ]
     },
     "execution_count": 46,
     "metadata": {},
     "output_type": "execute_result"
    }
   ],
   "source": [
    "a[2]"
   ]
  },
  {
   "cell_type": "code",
   "execution_count": 47,
   "id": "5078521b",
   "metadata": {},
   "outputs": [
    {
     "data": {
      "text/plain": [
       "7"
      ]
     },
     "execution_count": 47,
     "metadata": {},
     "output_type": "execute_result"
    }
   ],
   "source": [
    "a[4]"
   ]
  },
  {
   "cell_type": "code",
   "execution_count": 49,
   "id": "8b81bbe0",
   "metadata": {},
   "outputs": [],
   "source": [
    "#Negative indexing\n",
    "\n",
    "c=[11,24,33]\n",
    "\n"
   ]
  },
  {
   "cell_type": "markdown",
   "id": "d52225ab",
   "metadata": {},
   "source": [
    "# 33=-1\n",
    "# 24=-2\n",
    "# 11=-3"
   ]
  },
  {
   "cell_type": "code",
   "execution_count": 50,
   "id": "81b99d68",
   "metadata": {},
   "outputs": [
    {
     "data": {
      "text/plain": [
       "33"
      ]
     },
     "execution_count": 50,
     "metadata": {},
     "output_type": "execute_result"
    }
   ],
   "source": [
    "c[-1]"
   ]
  },
  {
   "cell_type": "code",
   "execution_count": 51,
   "id": "4b947ed4",
   "metadata": {},
   "outputs": [
    {
     "data": {
      "text/plain": [
       "33"
      ]
     },
     "execution_count": 51,
     "metadata": {},
     "output_type": "execute_result"
    }
   ],
   "source": [
    "c[2]"
   ]
  },
  {
   "cell_type": "code",
   "execution_count": null,
   "id": "bd966cc0",
   "metadata": {},
   "outputs": [],
   "source": [
    "#Slicing- fetching more than one element ,[start:stop: step]"
   ]
  },
  {
   "cell_type": "code",
   "execution_count": 53,
   "id": "1df0a07d",
   "metadata": {},
   "outputs": [],
   "source": [
    "c=[1,2,3,4,5,6,7]"
   ]
  },
  {
   "cell_type": "code",
   "execution_count": 55,
   "id": "24afd3de",
   "metadata": {},
   "outputs": [
    {
     "data": {
      "text/plain": [
       "[1, 2, 3, 4]"
      ]
     },
     "execution_count": 55,
     "metadata": {},
     "output_type": "execute_result"
    }
   ],
   "source": []
  },
  {
   "cell_type": "code",
   "execution_count": null,
   "id": "9f526194",
   "metadata": {},
   "outputs": [],
   "source": [
    "c[4:8]"
   ]
  },
  {
   "cell_type": "code",
   "execution_count": 65,
   "id": "5f402acb",
   "metadata": {},
   "outputs": [
    {
     "data": {
      "text/plain": [
       "[1, 3, 5, 7]"
      ]
     },
     "execution_count": 65,
     "metadata": {},
     "output_type": "execute_result"
    }
   ],
   "source": [
    "c=[1,2,3,4,5,6,7,8]\n",
    "\n",
    "c[0:8:2]"
   ]
  },
  {
   "cell_type": "code",
   "execution_count": 67,
   "id": "984a226c",
   "metadata": {},
   "outputs": [
    {
     "data": {
      "text/plain": [
       "{1, 9.8, 'str'}"
      ]
     },
     "execution_count": 67,
     "metadata": {},
     "output_type": "execute_result"
    }
   ],
   "source": [
    "#SET- {}  , CAN'T TAKE DUPLICATE ITEMS\n",
    "\n",
    "\n",
    "s={1,'str',9.8}\n",
    "s"
   ]
  },
  {
   "cell_type": "code",
   "execution_count": 69,
   "id": "881fa4b3",
   "metadata": {},
   "outputs": [
    {
     "name": "stdout",
     "output_type": "stream",
     "text": [
      "{1, 2, 3, 5}\n"
     ]
    }
   ],
   "source": [
    "a={1,2,5,1,3,2,5}\n",
    "print(a)"
   ]
  },
  {
   "cell_type": "code",
   "execution_count": 73,
   "id": "6fc3232b",
   "metadata": {},
   "outputs": [
    {
     "ename": "TypeError",
     "evalue": "'set' object is not subscriptable",
     "output_type": "error",
     "traceback": [
      "\u001b[1;31m---------------------------------------------------------------------------\u001b[0m",
      "\u001b[1;31mTypeError\u001b[0m                                 Traceback (most recent call last)",
      "\u001b[1;32m~\\AppData\\Local\\Temp\\ipykernel_17652\\351781349.py\u001b[0m in \u001b[0;36m<module>\u001b[1;34m\u001b[0m\n\u001b[1;32m----> 1\u001b[1;33m \u001b[0ma\u001b[0m\u001b[1;33m[\u001b[0m\u001b[1;36m0\u001b[0m\u001b[1;33m]\u001b[0m\u001b[1;33m\u001b[0m\u001b[1;33m\u001b[0m\u001b[0m\n\u001b[0m",
      "\u001b[1;31mTypeError\u001b[0m: 'set' object is not subscriptable"
     ]
    }
   ],
   "source": [
    "a[0]\n"
   ]
  },
  {
   "cell_type": "code",
   "execution_count": 79,
   "id": "2d494d19",
   "metadata": {},
   "outputs": [],
   "source": [
    "#Dictionary - {key:value pair}\n",
    "\n",
    "d={\n",
    "    'a':[2,3,4],\n",
    "    'b':'ball',\n",
    "    'c':'cat'\n",
    "}"
   ]
  },
  {
   "cell_type": "code",
   "execution_count": 80,
   "id": "cfdff17b",
   "metadata": {},
   "outputs": [
    {
     "name": "stdout",
     "output_type": "stream",
     "text": [
      "{'a': [2, 3, 4], 'b': 'ball', 'c': 'cat'}\n"
     ]
    }
   ],
   "source": [
    "print(d)"
   ]
  },
  {
   "cell_type": "code",
   "execution_count": 81,
   "id": "ad4eaf70",
   "metadata": {},
   "outputs": [
    {
     "data": {
      "text/plain": [
       "dict_keys(['a', 'b', 'c'])"
      ]
     },
     "execution_count": 81,
     "metadata": {},
     "output_type": "execute_result"
    }
   ],
   "source": [
    "d.keys()"
   ]
  },
  {
   "cell_type": "code",
   "execution_count": 82,
   "id": "5454507b",
   "metadata": {},
   "outputs": [
    {
     "data": {
      "text/plain": [
       "dict_values([[2, 3, 4], 'ball', 'cat'])"
      ]
     },
     "execution_count": 82,
     "metadata": {},
     "output_type": "execute_result"
    }
   ],
   "source": [
    "d.values()"
   ]
  },
  {
   "cell_type": "code",
   "execution_count": 83,
   "id": "03d2a181",
   "metadata": {},
   "outputs": [
    {
     "data": {
      "text/plain": [
       "[2, 3, 4]"
      ]
     },
     "execution_count": 83,
     "metadata": {},
     "output_type": "execute_result"
    }
   ],
   "source": [
    "d['a']"
   ]
  }
 ],
 "metadata": {
  "kernelspec": {
   "display_name": "Python 3 (ipykernel)",
   "language": "python",
   "name": "python3"
  },
  "language_info": {
   "codemirror_mode": {
    "name": "ipython",
    "version": 3
   },
   "file_extension": ".py",
   "mimetype": "text/x-python",
   "name": "python",
   "nbconvert_exporter": "python",
   "pygments_lexer": "ipython3",
   "version": "3.9.13"
  }
 },
 "nbformat": 4,
 "nbformat_minor": 5
}
