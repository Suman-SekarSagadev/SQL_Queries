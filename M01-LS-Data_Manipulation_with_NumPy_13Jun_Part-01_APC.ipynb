{
 "cells": [
  {
   "cell_type": "markdown",
   "id": "cb85499f",
   "metadata": {},
   "source": [
    "## Python NumPy"
   ]
  },
  {
   "cell_type": "markdown",
   "id": "627e2342",
   "metadata": {},
   "source": [
    "- Ancestor of NumPy(Numerical Python) is Numeric\n",
    "- In `2005`, Travis Oilphant developed NumPy\n",
    "- Useful library for scientific computing\n",
    "- NumPy does a real good job on linear algebra operations, can be used as an alternate to `MATLAB`\n",
    "- It is a very useful library to perform mathematical and statistical operations in Python.\n",
    "- It provides a high-performance multidimensional array object\n",
    "- NumPy is memory efficient"
   ]
  },
  {
   "cell_type": "markdown",
   "id": "c561683c",
   "metadata": {},
   "source": [
    "### Why do we use NumPy?"
   ]
  },
  {
   "cell_type": "code",
   "execution_count": 1,
   "id": "c6230c65",
   "metadata": {},
   "outputs": [
    {
     "name": "stdout",
     "output_type": "stream",
     "text": [
      "[1, 2, 3]\n",
      "[2, 4, 6]\n"
     ]
    }
   ],
   "source": [
    "list_1 = [1,2,3]\n",
    "list_2=[2,4,6]\n",
    "print(list_1)\n",
    "print(list_2)"
   ]
  },
  {
   "cell_type": "markdown",
   "id": "bf340ef3",
   "metadata": {},
   "source": [
    "- Multiply the given two lists to generate the output as\n",
    "\n",
    "`out_list = [2,8,18]` #elementwise multiplication"
   ]
  },
  {
   "cell_type": "code",
   "execution_count": 5,
   "id": "f7b80523",
   "metadata": {},
   "outputs": [
    {
     "data": {
      "text/plain": [
       "6"
      ]
     },
     "execution_count": 5,
     "metadata": {},
     "output_type": "execute_result"
    }
   ],
   "source": [
    "2*3"
   ]
  },
  {
   "cell_type": "code",
   "execution_count": 6,
   "id": "54a99faa",
   "metadata": {},
   "outputs": [
    {
     "ename": "TypeError",
     "evalue": "can't multiply sequence by non-int of type 'list'",
     "output_type": "error",
     "traceback": [
      "\u001b[1;31m---------------------------------------------------------------------------\u001b[0m",
      "\u001b[1;31mTypeError\u001b[0m                                 Traceback (most recent call last)",
      "\u001b[1;32m<ipython-input-6-3076a6d5a7b2>\u001b[0m in \u001b[0;36m<module>\u001b[1;34m\u001b[0m\n\u001b[1;32m----> 1\u001b[1;33m \u001b[0mout_list\u001b[0m \u001b[1;33m=\u001b[0m\u001b[0mlist_1\u001b[0m \u001b[1;33m*\u001b[0m \u001b[0mlist_2\u001b[0m\u001b[1;33m\u001b[0m\u001b[1;33m\u001b[0m\u001b[0m\n\u001b[0m\u001b[0;32m      2\u001b[0m \u001b[0mprint\u001b[0m\u001b[1;33m(\u001b[0m\u001b[0mout_list\u001b[0m\u001b[1;33m)\u001b[0m\u001b[1;33m\u001b[0m\u001b[1;33m\u001b[0m\u001b[0m\n",
      "\u001b[1;31mTypeError\u001b[0m: can't multiply sequence by non-int of type 'list'"
     ]
    }
   ],
   "source": [
    "out_list =list_1 * list_2\n",
    "print(out_list)"
   ]
  },
  {
   "cell_type": "markdown",
   "id": "ce3ad5ee",
   "metadata": {},
   "source": [
    "**Elementwise multiplication of two list - vectorized operations not possible in Python using lists**"
   ]
  },
  {
   "cell_type": "markdown",
   "id": "d994fdc4",
   "metadata": {},
   "source": [
    "##### Solution\n",
    "`Use for loop`"
   ]
  },
  {
   "cell_type": "code",
   "execution_count": 7,
   "id": "daeb0788",
   "metadata": {},
   "outputs": [
    {
     "name": "stdout",
     "output_type": "stream",
     "text": [
      "Elementwise multiplication of two lists is: [2, 8, 18]\n"
     ]
    }
   ],
   "source": [
    "list_1 = [1,2,3]\n",
    "list_2=[2,4,6]\n",
    "\n",
    "out_list=[] #creates an empty list\n",
    "\n",
    "for i in range(len(list_1)):\n",
    "    out_list.append(list_1[i]*list_2[i])\n",
    "    \n",
    "\n",
    "print('Elementwise multiplication of two lists is:', out_list)"
   ]
  },
  {
   "cell_type": "markdown",
   "id": "b392c982",
   "metadata": {},
   "source": [
    "### Importing the required libraries"
   ]
  },
  {
   "cell_type": "code",
   "execution_count": 15,
   "id": "a869249d",
   "metadata": {},
   "outputs": [],
   "source": [
    "import numpy as np #importing this library \n",
    "import os"
   ]
  },
  {
   "cell_type": "code",
   "execution_count": 12,
   "id": "6ac26cfd",
   "metadata": {},
   "outputs": [
    {
     "data": {
      "text/plain": [
       "'C:\\\\Users\\\\think\\\\OneDrive - Thinking Mojo\\\\TSLC\\\\Intellipaat\\\\Session Master\\\\03.Data Science Weekday Batch - 13June'"
      ]
     },
     "execution_count": 12,
     "metadata": {},
     "output_type": "execute_result"
    }
   ],
   "source": [
    "os.getcwd()"
   ]
  },
  {
   "cell_type": "code",
   "execution_count": 13,
   "id": "dbad74e5",
   "metadata": {},
   "outputs": [
    {
     "data": {
      "text/plain": [
       "['.ipynb_checkpoints',\n",
       " 'M01-LS-Data_Manipulation_with_NumPy_13Jun_Part-01_APC.ipynb']"
      ]
     },
     "execution_count": 13,
     "metadata": {},
     "output_type": "execute_result"
    }
   ],
   "source": [
    "os.listdir()"
   ]
  },
  {
   "cell_type": "markdown",
   "id": "241845c7",
   "metadata": {},
   "source": [
    "##### Alternate Solution\n",
    "`Use NumPy`"
   ]
  },
  {
   "cell_type": "markdown",
   "id": "ff87c5b1",
   "metadata": {},
   "source": [
    "#### Creating an array"
   ]
  },
  {
   "cell_type": "markdown",
   "id": "cd521b08",
   "metadata": {},
   "source": [
    "`np.array()`"
   ]
  },
  {
   "cell_type": "code",
   "execution_count": 20,
   "id": "655c077c",
   "metadata": {},
   "outputs": [],
   "source": [
    "arr_1 = np.array(list_1)"
   ]
  },
  {
   "attachments": {
    "image.png": {
     "image/png": "[encoded data removed]"
    }
   },
   "cell_type": "markdown",
   "id": "2f69b6b9",
   "metadata": {},
   "source": [
    "![image.png](attachment:image.png)"
   ]
  },
  {
   "cell_type": "markdown",
   "id": "e2bd555c",
   "metadata": {},
   "source": [
    "#### Converting a list to array"
   ]
  },
  {
   "cell_type": "code",
   "execution_count": 16,
   "id": "3c09599e",
   "metadata": {},
   "outputs": [
    {
     "name": "stdout",
     "output_type": "stream",
     "text": [
      "[1 2 3]\n",
      "<class 'numpy.ndarray'>\n"
     ]
    }
   ],
   "source": [
    "arr_1 = np.array(list_1)\n",
    "print(arr_1)\n",
    "print(type(arr_1))"
   ]
  },
  {
   "cell_type": "code",
   "execution_count": 19,
   "id": "23f56fb5",
   "metadata": {},
   "outputs": [
    {
     "name": "stdout",
     "output_type": "stream",
     "text": [
      "[1, 2, 3]\n",
      "<class 'list'>\n"
     ]
    }
   ],
   "source": [
    "print(list_1)\n",
    "print(type(list_1))"
   ]
  },
  {
   "cell_type": "code",
   "execution_count": 21,
   "id": "65559284",
   "metadata": {},
   "outputs": [
    {
     "name": "stdout",
     "output_type": "stream",
     "text": [
      "[2 4 6]\n",
      "<class 'numpy.ndarray'>\n"
     ]
    }
   ],
   "source": [
    "arr_2 = np.array(list_2)\n",
    "print(arr_2)\n",
    "print(type(arr_2))"
   ]
  },
  {
   "cell_type": "code",
   "execution_count": 22,
   "id": "837c562b",
   "metadata": {},
   "outputs": [
    {
     "name": "stdout",
     "output_type": "stream",
     "text": [
      "[ 2  8 18]\n"
     ]
    }
   ],
   "source": [
    "print(arr_1 * arr_2) #vectorized operation on arrays"
   ]
  },
  {
   "cell_type": "code",
   "execution_count": 23,
   "id": "6e469cbc",
   "metadata": {},
   "outputs": [
    {
     "name": "stdout",
     "output_type": "stream",
     "text": [
      "[2, 8, 18]\n"
     ]
    }
   ],
   "source": [
    "out_arr = arr_1 * arr_2\n",
    "\n",
    "out_list= out_arr.tolist() #it converts an array back to list\n",
    "\n",
    "print(out_list)"
   ]
  },
  {
   "cell_type": "markdown",
   "id": "190a936b",
   "metadata": {},
   "source": [
    "`.tolist()` # converts it to list"
   ]
  },
  {
   "cell_type": "code",
   "execution_count": null,
   "id": "6bc7e24e",
   "metadata": {},
   "outputs": [],
   "source": []
  }
 ],
 "metadata": {
  "kernelspec": {
   "display_name": "Python 3",
   "language": "python",
   "name": "python3"
  },
  "language_info": {
   "codemirror_mode": {
    "name": "ipython",
    "version": 3
   },
   "file_extension": ".py",
   "mimetype": "text/x-python",
   "name": "python",
   "nbconvert_exporter": "python",
   "pygments_lexer": "ipython3",
   "version": "3.8.8"
  }
 },
 "nbformat": 4,
 "nbformat_minor": 5
}
